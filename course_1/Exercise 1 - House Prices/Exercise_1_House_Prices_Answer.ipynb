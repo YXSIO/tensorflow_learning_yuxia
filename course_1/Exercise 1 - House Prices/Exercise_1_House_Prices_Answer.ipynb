{
 "cells": [
  {
   "cell_type": "code",
   "execution_count": 1,
   "metadata": {
    "colab": {},
    "colab_type": "code",
    "id": "zX4Kg8DUTKWO"
   },
   "outputs": [],
   "source": [
    "#@title Licensed under the Apache License, Version 2.0 (the \"License\");\n",
    "# you may not use this file except in compliance with the License.\n",
    "# You may obtain a copy of the License at\n",
    "#\n",
    "# https://www.apache.org/licenses/LICENSE-2.0\n",
    "#\n",
    "# Unless required by applicable law or agreed to in writing, software\n",
    "# distributed under the License is distributed on an \"AS IS\" BASIS,\n",
    "# WITHOUT WARRANTIES OR CONDITIONS OF ANY KIND, either express or implied.\n",
    "# See the License for the specific language governing permissions and\n",
    "# limitations under the License."
   ]
  },
  {
   "cell_type": "markdown",
   "metadata": {
    "colab_type": "text",
    "id": "mw2VBrBcgvGa"
   },
   "source": [
    "In this exercise you'll try to build a neural network that predicts the price of a house according to a simple formula.\n",
    "\n",
    "So, imagine if house pricing was as easy as a house costs 50k + 50k per bedroom, so that a 1 bedroom house costs 100k, a 2 bedroom house costs 150k etc.\n",
    "\n",
    "How would you create a neural network that learns this relationship so that it would predict a 7 bedroom house as costing close to 400k etc.\n",
    "\n",
    "Hint: Your network might work better if you scale the house price down. You don't have to give the answer 400...it might be better to create something that predicts the number 4, and then your answer is in the 'hundreds of thousands' etc."
   ]
  },
  {
   "cell_type": "code",
   "execution_count": 85,
   "metadata": {
    "colab": {},
    "colab_type": "code",
    "id": "PUNO2E6SeURH"
   },
   "outputs": [],
   "source": [
    "import tensorflow as tf\n",
    "import numpy as np\n",
    "from tensorflow import keras\n",
    "model = tf.keras.Sequential([\n",
    "    keras.layers.Dense(1, input_shape=(1,))\n",
    "])\n",
    "\n",
    "model.compile(optimizer='sgd', loss='mean_squared_error')"
   ]
  },
  {
   "cell_type": "code",
   "execution_count": 86,
   "metadata": {},
   "outputs": [
    {
     "name": "stdout",
     "output_type": "stream",
     "text": [
      "_________________________________________________________________\n",
      "Layer (type)                 Output Shape              Param #   \n",
      "=================================================================\n",
      "dense_15 (Dense)             (None, 1)                 2         \n",
      "=================================================================\n",
      "Total params: 2\n",
      "Trainable params: 2\n",
      "Non-trainable params: 0\n",
      "_________________________________________________________________\n"
     ]
    }
   ],
   "source": [
    "model.summary()"
   ]
  },
  {
   "cell_type": "code",
   "execution_count": 87,
   "metadata": {},
   "outputs": [
    {
     "name": "stdout",
     "output_type": "stream",
     "text": [
      "Epoch 1/100\n",
      "6/6 [==============================] - 0s 74ms/step - loss: 15.7687\n",
      "Epoch 2/100\n",
      "6/6 [==============================] - 0s 154us/step - loss: 7.3595\n",
      "Epoch 3/100\n",
      "6/6 [==============================] - 0s 573us/step - loss: 3.4670\n",
      "Epoch 4/100\n",
      "6/6 [==============================] - 0s 765us/step - loss: 1.6650\n",
      "Epoch 5/100\n",
      "6/6 [==============================] - 0s 214us/step - loss: 0.8305\n",
      "Epoch 6/100\n",
      "6/6 [==============================] - 0s 2ms/step - loss: 0.4438\n",
      "Epoch 7/100\n",
      "6/6 [==============================] - 0s 352us/step - loss: 0.2645\n",
      "Epoch 8/100\n",
      "6/6 [==============================] - 0s 285us/step - loss: 0.1810\n",
      "Epoch 9/100\n",
      "6/6 [==============================] - 0s 778us/step - loss: 0.1419\n",
      "Epoch 10/100\n",
      "6/6 [==============================] - 0s 301us/step - loss: 0.1234\n",
      "Epoch 11/100\n",
      "6/6 [==============================] - 0s 117us/step - loss: 0.1145\n",
      "Epoch 12/100\n",
      "6/6 [==============================] - 0s 609us/step - loss: 0.1099\n",
      "Epoch 13/100\n",
      "6/6 [==============================] - 0s 616us/step - loss: 0.1074\n",
      "Epoch 14/100\n",
      "6/6 [==============================] - 0s 496us/step - loss: 0.1058\n",
      "Epoch 15/100\n",
      "6/6 [==============================] - 0s 199us/step - loss: 0.1046\n",
      "Epoch 16/100\n",
      "6/6 [==============================] - 0s 3ms/step - loss: 0.1037\n",
      "Epoch 17/100\n",
      "6/6 [==============================] - 0s 2ms/step - loss: 0.1029\n",
      "Epoch 18/100\n",
      "6/6 [==============================] - 0s 160us/step - loss: 0.1021\n",
      "Epoch 19/100\n",
      "6/6 [==============================] - 0s 177us/step - loss: 0.1013\n",
      "Epoch 20/100\n",
      "6/6 [==============================] - 0s 261us/step - loss: 0.1006\n",
      "Epoch 21/100\n",
      "6/6 [==============================] - 0s 200us/step - loss: 0.0998\n",
      "Epoch 22/100\n",
      "6/6 [==============================] - 0s 171us/step - loss: 0.0991\n",
      "Epoch 23/100\n",
      "6/6 [==============================] - 0s 278us/step - loss: 0.0984\n",
      "Epoch 24/100\n",
      "6/6 [==============================] - 0s 282us/step - loss: 0.0977\n",
      "Epoch 25/100\n",
      "6/6 [==============================] - 0s 1ms/step - loss: 0.0970\n",
      "Epoch 26/100\n",
      "6/6 [==============================] - 0s 232us/step - loss: 0.0962\n",
      "Epoch 27/100\n",
      "6/6 [==============================] - 0s 119us/step - loss: 0.0955\n",
      "Epoch 28/100\n",
      "6/6 [==============================] - 0s 223us/step - loss: 0.0948\n",
      "Epoch 29/100\n",
      "6/6 [==============================] - 0s 174us/step - loss: 0.0942\n",
      "Epoch 30/100\n",
      "6/6 [==============================] - 0s 134us/step - loss: 0.0935\n",
      "Epoch 31/100\n",
      "6/6 [==============================] - 0s 537us/step - loss: 0.0928\n",
      "Epoch 32/100\n",
      "6/6 [==============================] - 0s 350us/step - loss: 0.0921\n",
      "Epoch 33/100\n",
      "6/6 [==============================] - 0s 1ms/step - loss: 0.0914\n",
      "Epoch 34/100\n",
      "6/6 [==============================] - 0s 2ms/step - loss: 0.0908\n",
      "Epoch 35/100\n",
      "6/6 [==============================] - 0s 571us/step - loss: 0.0901\n",
      "Epoch 36/100\n",
      "6/6 [==============================] - 0s 650us/step - loss: 0.0895\n",
      "Epoch 37/100\n",
      "6/6 [==============================] - 0s 739us/step - loss: 0.0888\n",
      "Epoch 38/100\n",
      "6/6 [==============================] - 0s 178us/step - loss: 0.0882\n",
      "Epoch 39/100\n",
      "6/6 [==============================] - 0s 2ms/step - loss: 0.0875\n",
      "Epoch 40/100\n",
      "6/6 [==============================] - 0s 1ms/step - loss: 0.0869\n",
      "Epoch 41/100\n",
      "6/6 [==============================] - 0s 260us/step - loss: 0.0862\n",
      "Epoch 42/100\n",
      "6/6 [==============================] - 0s 328us/step - loss: 0.0856\n",
      "Epoch 43/100\n",
      "6/6 [==============================] - 0s 413us/step - loss: 0.0850\n",
      "Epoch 44/100\n",
      "6/6 [==============================] - 0s 530us/step - loss: 0.0844\n",
      "Epoch 45/100\n",
      "6/6 [==============================] - 0s 233us/step - loss: 0.0838\n",
      "Epoch 46/100\n",
      "6/6 [==============================] - 0s 1ms/step - loss: 0.0832\n",
      "Epoch 47/100\n",
      "6/6 [==============================] - 0s 447us/step - loss: 0.0825\n",
      "Epoch 48/100\n",
      "6/6 [==============================] - 0s 252us/step - loss: 0.0819\n",
      "Epoch 49/100\n",
      "6/6 [==============================] - 0s 890us/step - loss: 0.0813\n",
      "Epoch 50/100\n",
      "6/6 [==============================] - 0s 361us/step - loss: 0.0808\n",
      "Epoch 51/100\n",
      "6/6 [==============================] - 0s 1ms/step - loss: 0.0802\n",
      "Epoch 52/100\n",
      "6/6 [==============================] - 0s 554us/step - loss: 0.0796\n",
      "Epoch 53/100\n",
      "6/6 [==============================] - 0s 326us/step - loss: 0.0790\n",
      "Epoch 54/100\n",
      "6/6 [==============================] - 0s 355us/step - loss: 0.0784\n",
      "Epoch 55/100\n",
      "6/6 [==============================] - 0s 482us/step - loss: 0.0779\n",
      "Epoch 56/100\n",
      "6/6 [==============================] - 0s 361us/step - loss: 0.0773\n",
      "Epoch 57/100\n",
      "6/6 [==============================] - 0s 358us/step - loss: 0.0767\n",
      "Epoch 58/100\n",
      "6/6 [==============================] - 0s 648us/step - loss: 0.0762\n",
      "Epoch 59/100\n",
      "6/6 [==============================] - 0s 213us/step - loss: 0.0756\n",
      "Epoch 60/100\n",
      "6/6 [==============================] - 0s 312us/step - loss: 0.0751\n",
      "Epoch 61/100\n",
      "6/6 [==============================] - 0s 251us/step - loss: 0.0745\n",
      "Epoch 62/100\n",
      "6/6 [==============================] - 0s 211us/step - loss: 0.0740\n",
      "Epoch 63/100\n",
      "6/6 [==============================] - 0s 251us/step - loss: 0.0734\n",
      "Epoch 64/100\n",
      "6/6 [==============================] - 0s 724us/step - loss: 0.0729\n",
      "Epoch 65/100\n",
      "6/6 [==============================] - 0s 573us/step - loss: 0.0724\n",
      "Epoch 66/100\n",
      "6/6 [==============================] - 0s 536us/step - loss: 0.0718\n",
      "Epoch 67/100\n",
      "6/6 [==============================] - 0s 296us/step - loss: 0.0713\n",
      "Epoch 68/100\n",
      "6/6 [==============================] - 0s 323us/step - loss: 0.0708\n",
      "Epoch 69/100\n",
      "6/6 [==============================] - 0s 271us/step - loss: 0.0703\n",
      "Epoch 70/100\n",
      "6/6 [==============================] - 0s 158us/step - loss: 0.0698\n",
      "Epoch 71/100\n",
      "6/6 [==============================] - 0s 168us/step - loss: 0.0693\n",
      "Epoch 72/100\n",
      "6/6 [==============================] - 0s 188us/step - loss: 0.0688\n",
      "Epoch 73/100\n",
      "6/6 [==============================] - 0s 376us/step - loss: 0.0683\n",
      "Epoch 74/100\n",
      "6/6 [==============================] - 0s 839us/step - loss: 0.0678\n",
      "Epoch 75/100\n",
      "6/6 [==============================] - 0s 665us/step - loss: 0.0673\n",
      "Epoch 76/100\n",
      "6/6 [==============================] - 0s 181us/step - loss: 0.0668\n",
      "Epoch 77/100\n",
      "6/6 [==============================] - 0s 142us/step - loss: 0.0663\n",
      "Epoch 78/100\n",
      "6/6 [==============================] - 0s 316us/step - loss: 0.0658\n",
      "Epoch 79/100\n",
      "6/6 [==============================] - 0s 218us/step - loss: 0.0653\n",
      "Epoch 80/100\n",
      "6/6 [==============================] - 0s 519us/step - loss: 0.0648\n",
      "Epoch 81/100\n",
      "6/6 [==============================] - 0s 244us/step - loss: 0.0644\n",
      "Epoch 82/100\n",
      "6/6 [==============================] - 0s 290us/step - loss: 0.0639\n",
      "Epoch 83/100\n",
      "6/6 [==============================] - 0s 551us/step - loss: 0.0634\n",
      "Epoch 84/100\n",
      "6/6 [==============================] - 0s 283us/step - loss: 0.0630\n",
      "Epoch 85/100\n",
      "6/6 [==============================] - 0s 223us/step - loss: 0.0625\n",
      "Epoch 86/100\n",
      "6/6 [==============================] - 0s 656us/step - loss: 0.0621\n",
      "Epoch 87/100\n",
      "6/6 [==============================] - 0s 529us/step - loss: 0.0616\n",
      "Epoch 88/100\n",
      "6/6 [==============================] - 0s 308us/step - loss: 0.0612\n",
      "Epoch 89/100\n",
      "6/6 [==============================] - 0s 179us/step - loss: 0.0607\n",
      "Epoch 90/100\n",
      "6/6 [==============================] - 0s 392us/step - loss: 0.0603\n",
      "Epoch 91/100\n",
      "6/6 [==============================] - 0s 384us/step - loss: 0.0598\n",
      "Epoch 92/100\n",
      "6/6 [==============================] - 0s 512us/step - loss: 0.0594\n",
      "Epoch 93/100\n",
      "6/6 [==============================] - 0s 453us/step - loss: 0.0590\n",
      "Epoch 94/100\n",
      "6/6 [==============================] - 0s 533us/step - loss: 0.0585\n",
      "Epoch 95/100\n",
      "6/6 [==============================] - 0s 715us/step - loss: 0.0581\n",
      "Epoch 96/100\n",
      "6/6 [==============================] - 0s 203us/step - loss: 0.0577\n",
      "Epoch 97/100\n",
      "6/6 [==============================] - 0s 841us/step - loss: 0.0573\n",
      "Epoch 98/100\n",
      "6/6 [==============================] - 0s 315us/step - loss: 0.0569\n",
      "Epoch 99/100\n",
      "6/6 [==============================] - 0s 204us/step - loss: 0.0564\n",
      "Epoch 100/100\n",
      "6/6 [==============================] - 0s 1ms/step - loss: 0.0560\n",
      "[[4.8414135]]\n"
     ]
    }
   ],
   "source": [
    "xs = np.array([1.0, 2.0, 3.0, 4.0, 5.0, 6.0], dtype=float)\n",
    "ys = np.array([1.5, 2.0, 2.5, 3.0, 3.5, 4.0], dtype=float)\n",
    "\n",
    "model.fit(xs, ys, epochs=100)\n",
    "print(model.predict([7.0]))"
   ]
  },
  {
   "cell_type": "code",
   "execution_count": 88,
   "metadata": {},
   "outputs": [],
   "source": [
    "layer_1 = model.get_layer('dense_15')"
   ]
  },
  {
   "cell_type": "code",
   "execution_count": 102,
   "metadata": {},
   "outputs": [
    {
     "data": {
      "text/plain": [
       "[array([[0.62557507]], dtype=float32), array([0.46238816], dtype=float32)]"
      ]
     },
     "execution_count": 102,
     "metadata": {},
     "output_type": "execute_result"
    }
   ],
   "source": [
    "layer_1.get_weights()"
   ]
  },
  {
   "cell_type": "code",
   "execution_count": 90,
   "metadata": {},
   "outputs": [
    {
     "data": {
      "text/plain": [
       "[<tf.Tensor 'dense_15/BiasAdd:0' shape=(?, 1) dtype=float32>]"
      ]
     },
     "execution_count": 90,
     "metadata": {},
     "output_type": "execute_result"
    }
   ],
   "source": [
    "model.outputs"
   ]
  },
  {
   "cell_type": "code",
   "execution_count": 67,
   "metadata": {},
   "outputs": [
    {
     "data": {
      "text/plain": [
       "'{\"class_name\": \"Sequential\", \"config\": [{\"class_name\": \"Dense\", \"config\": {\"name\": \"dense_12\", \"trainable\": true, \"batch_input_shape\": [null, 1], \"dtype\": \"float32\", \"units\": 1, \"activation\": \"linear\", \"use_bias\": true, \"kernel_initializer\": {\"class_name\": \"VarianceScaling\", \"config\": {\"scale\": 1.0, \"mode\": \"fan_avg\", \"distribution\": \"uniform\", \"seed\": null, \"dtype\": \"float32\"}}, \"bias_initializer\": {\"class_name\": \"Zeros\", \"config\": {\"dtype\": \"float32\"}}, \"kernel_regularizer\": null, \"bias_regularizer\": null, \"activity_regularizer\": null, \"kernel_constraint\": null, \"bias_constraint\": null}}], \"keras_version\": \"2.1.6-tf\", \"backend\": \"tensorflow\"}'"
      ]
     },
     "execution_count": 67,
     "metadata": {},
     "output_type": "execute_result"
    }
   ],
   "source": [
    "model.to_json()"
   ]
  },
  {
   "cell_type": "code",
   "execution_count": 68,
   "metadata": {},
   "outputs": [
    {
     "data": {
      "text/plain": [
       "[{'class_name': 'Dense',\n",
       "  'config': {'name': 'dense_12',\n",
       "   'trainable': True,\n",
       "   'batch_input_shape': (None, 1),\n",
       "   'dtype': 'float32',\n",
       "   'units': 1,\n",
       "   'activation': 'linear',\n",
       "   'use_bias': True,\n",
       "   'kernel_initializer': {'class_name': 'VarianceScaling',\n",
       "    'config': {'scale': 1.0,\n",
       "     'mode': 'fan_avg',\n",
       "     'distribution': 'uniform',\n",
       "     'seed': None,\n",
       "     'dtype': 'float32'}},\n",
       "   'bias_initializer': {'class_name': 'Zeros', 'config': {'dtype': 'float32'}},\n",
       "   'kernel_regularizer': None,\n",
       "   'bias_regularizer': None,\n",
       "   'activity_regularizer': None,\n",
       "   'kernel_constraint': None,\n",
       "   'bias_constraint': None}}]"
      ]
     },
     "execution_count": 68,
     "metadata": {},
     "output_type": "execute_result"
    }
   ],
   "source": [
    "model.get_config()"
   ]
  },
  {
   "cell_type": "code",
   "execution_count": null,
   "metadata": {},
   "outputs": [],
   "source": []
  }
 ],
 "metadata": {
  "colab": {
   "name": "Exercise_1_House_Prices_Answer.ipynb",
   "provenance": [],
   "toc_visible": true,
   "version": "0.3.2"
  },
  "kernelspec": {
   "display_name": "Python 3",
   "language": "python",
   "name": "python3"
  },
  "language_info": {
   "codemirror_mode": {
    "name": "ipython",
    "version": 3
   },
   "file_extension": ".py",
   "mimetype": "text/x-python",
   "name": "python",
   "nbconvert_exporter": "python",
   "pygments_lexer": "ipython3",
   "version": "3.6.5"
  }
 },
 "nbformat": 4,
 "nbformat_minor": 1
}
